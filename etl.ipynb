{
 "cells": [
  {
   "metadata": {
    "ExecuteTime": {
     "end_time": "2024-10-28T20:53:51.851912Z",
     "start_time": "2024-10-28T20:52:03.479964Z"
    }
   },
   "cell_type": "code",
   "source": [
    "import pandas as pd\n",
    "!conda install -c conda-forge pandas pgvector psycopg[binary] google-generativeai -y"
   ],
   "id": "4bbd28fe45913232",
   "outputs": [
    {
     "name": "stdout",
     "output_type": "stream",
     "text": [
      "Channels:\n",
      " - conda-forge\n",
      " - defaults\n",
      "Platform: win-64\n",
      "Collecting package metadata (repodata.json): ...working... done\n",
      "Solving environment: ...working... done\n",
      "\n",
      "## Package Plan ##\n",
      "\n",
      "  environment location: C:\\Users\\neypi.NEY-DESKTOP\\miniconda3\\envs\\seeding_data\n",
      "\n",
      "  added / updated specs:\n",
      "    - google-generativeai\n",
      "    - pandas\n",
      "    - pgvector\n",
      "    - psycopg\n",
      "\n",
      "\n",
      "The following packages will be downloaded:\n",
      "\n",
      "    package                    |            build\n",
      "    ---------------------------|-----------------\n",
      "    aiohttp-3.10.10            |  py310h38315fa_0         667 KB  conda-forge\n",
      "    cachetools-5.5.0           |     pyhd8ed1ab_0          14 KB  conda-forge\n",
      "    cryptography-43.0.3        |  py310h25a5809_0         1.2 MB  conda-forge\n",
      "    frozenlist-1.5.0           |  py310ha8f682b_0          53 KB  conda-forge\n",
      "    google-ai-generativelanguage-0.6.10|     pyhd8ed1ab_0         123 KB  conda-forge\n",
      "    google-api-core-2.21.0     |     pyhd8ed1ab_0          87 KB  conda-forge\n",
      "    google-api-python-client-2.149.0|     pyhff2d567_0         5.7 MB  conda-forge\n",
      "    google-auth-2.35.0         |     pyhff2d567_0         113 KB  conda-forge\n",
      "    google-auth-httplib2-0.2.0 |     pyhd8ed1ab_0          15 KB  conda-forge\n",
      "    google-generativeai-0.8.2  |     pyhd8ed1ab_0          92 KB  conda-forge\n",
      "    googleapis-common-protos-1.65.0|     pyhd8ed1ab_0         113 KB  conda-forge\n",
      "    httplib2-0.22.0            |     pyhd8ed1ab_0          93 KB  conda-forge\n",
      "    libblas-3.9.0              |     25_win64_mkl         3.6 MB  conda-forge\n",
      "    libcblas-3.9.0             |     25_win64_mkl         3.6 MB  conda-forge\n",
      "    liblapack-3.9.0            |     25_win64_mkl         3.6 MB  conda-forge\n",
      "    libpq-16.4                 |       hab9416b_3         3.3 MB  conda-forge\n",
      "    mkl-2024.2.2               |      h66d3029_14        98.2 MB  conda-forge\n",
      "    multidict-6.1.0            |  py310h38315fa_1          52 KB  conda-forge\n",
      "    numpy-2.1.2                |  py310hb9d903e_0         6.3 MB  conda-forge\n",
      "    pgvector-0.7.4             |       h04e60ba_0         141 KB  conda-forge\n",
      "    propcache-0.2.0            |  py310ha8f682b_2          48 KB  conda-forge\n",
      "    proto-plus-1.25.0          |     pyhd8ed1ab_0          41 KB  conda-forge\n",
      "    protobuf-5.28.2            |  py310h9e98ed7_0         372 KB  conda-forge\n",
      "    psycopg-3.2.3              |  py310hefb7794_0         307 KB  conda-forge\n",
      "    psycopg-c-3.2.3            |  py310h2222f03_0         282 KB  conda-forge\n",
      "    pyasn1-0.6.1               |     pyhd8ed1ab_1          61 KB  conda-forge\n",
      "    pyasn1-modules-0.4.1       |     pyhd8ed1ab_0          94 KB  conda-forge\n",
      "    pyopenssl-24.2.1           |     pyhd8ed1ab_2         125 KB  conda-forge\n",
      "    pyparsing-3.2.0            |     pyhd8ed1ab_1          90 KB  conda-forge\n",
      "    pyu2f-0.1.5                |     pyhd8ed1ab_0          31 KB  conda-forge\n",
      "    rsa-4.9                    |     pyhd8ed1ab_0          29 KB  conda-forge\n",
      "    tqdm-4.66.6                |     pyhd8ed1ab_0          87 KB  conda-forge\n",
      "    uritemplate-4.1.1          |     pyhd8ed1ab_0          12 KB  conda-forge\n",
      "    yarl-1.16.0                |  py310ha8f682b_0         123 KB  conda-forge\n",
      "    ------------------------------------------------------------\n",
      "                                           Total:       128.6 MB\n",
      "\n",
      "The following NEW packages will be INSTALLED:\n",
      "\n",
      "  aiohappyeyeballs   conda-forge/noarch::aiohappyeyeballs-2.4.3-pyhd8ed1ab_0 \n",
      "  aiohttp            conda-forge/win-64::aiohttp-3.10.10-py310h38315fa_0 \n",
      "  aiosignal          conda-forge/noarch::aiosignal-1.3.1-pyhd8ed1ab_0 \n",
      "  annotated-types    conda-forge/noarch::annotated-types-0.7.0-pyhd8ed1ab_0 \n",
      "  async-timeout      conda-forge/noarch::async-timeout-4.0.3-pyhd8ed1ab_0 \n",
      "  cachetools         conda-forge/noarch::cachetools-5.5.0-pyhd8ed1ab_0 \n",
      "  cryptography       conda-forge/win-64::cryptography-43.0.3-py310h25a5809_0 \n",
      "  frozenlist         conda-forge/win-64::frozenlist-1.5.0-py310ha8f682b_0 \n",
      "  google-ai-generat~ conda-forge/noarch::google-ai-generativelanguage-0.6.10-pyhd8ed1ab_0 \n",
      "  google-api-core    conda-forge/noarch::google-api-core-2.21.0-pyhd8ed1ab_0 \n",
      "  google-api-python~ conda-forge/noarch::google-api-python-client-2.149.0-pyhff2d567_0 \n",
      "  google-auth        conda-forge/noarch::google-auth-2.35.0-pyhff2d567_0 \n",
      "  google-auth-httpl~ conda-forge/noarch::google-auth-httplib2-0.2.0-pyhd8ed1ab_0 \n",
      "  google-generative~ conda-forge/noarch::google-generativeai-0.8.2-pyhd8ed1ab_0 \n",
      "  googleapis-common~ conda-forge/noarch::googleapis-common-protos-1.65.0-pyhd8ed1ab_0 \n",
      "  httplib2           conda-forge/noarch::httplib2-0.22.0-pyhd8ed1ab_0 \n",
      "  intel-openmp       conda-forge/win-64::intel-openmp-2024.2.1-h57928b3_1083 \n",
      "  krb5               conda-forge/win-64::krb5-1.21.3-hdf4eb48_0 \n",
      "  libblas            conda-forge/win-64::libblas-3.9.0-25_win64_mkl \n",
      "  libcblas           conda-forge/win-64::libcblas-3.9.0-25_win64_mkl \n",
      "  libhwloc           conda-forge/win-64::libhwloc-2.11.1-default_h8125262_1000 \n",
      "  libiconv           conda-forge/win-64::libiconv-1.17-hcfcfb64_2 \n",
      "  liblapack          conda-forge/win-64::liblapack-3.9.0-25_win64_mkl \n",
      "  libpq              conda-forge/win-64::libpq-16.4-hab9416b_3 \n",
      "  libxml2            pkgs/main/win-64::libxml2-2.13.1-h24da03e_2 \n",
      "  mkl                conda-forge/win-64::mkl-2024.2.2-h66d3029_14 \n",
      "  multidict          conda-forge/win-64::multidict-6.1.0-py310h38315fa_1 \n",
      "  numpy              conda-forge/win-64::numpy-2.1.2-py310hb9d903e_0 \n",
      "  pandas             conda-forge/win-64::pandas-2.2.3-py310hb4db72f_1 \n",
      "  pgvector           conda-forge/win-64::pgvector-0.7.4-h04e60ba_0 \n",
      "  propcache          conda-forge/win-64::propcache-0.2.0-py310ha8f682b_2 \n",
      "  proto-plus         conda-forge/noarch::proto-plus-1.25.0-pyhd8ed1ab_0 \n",
      "  protobuf           conda-forge/win-64::protobuf-5.28.2-py310h9e98ed7_0 \n",
      "  psycopg            conda-forge/win-64::psycopg-3.2.3-py310hefb7794_0 \n",
      "  psycopg-c          conda-forge/win-64::psycopg-c-3.2.3-py310h2222f03_0 \n",
      "  pthreads-win32     conda-forge/win-64::pthreads-win32-2.9.1-h2466b09_4 \n",
      "  pyasn1             conda-forge/noarch::pyasn1-0.6.1-pyhd8ed1ab_1 \n",
      "  pyasn1-modules     conda-forge/noarch::pyasn1-modules-0.4.1-pyhd8ed1ab_0 \n",
      "  pydantic           conda-forge/noarch::pydantic-2.9.2-pyhd8ed1ab_0 \n",
      "  pydantic-core      conda-forge/win-64::pydantic-core-2.23.4-py310hc226416_0 \n",
      "  pyopenssl          conda-forge/noarch::pyopenssl-24.2.1-pyhd8ed1ab_2 \n",
      "  pyparsing          conda-forge/noarch::pyparsing-3.2.0-pyhd8ed1ab_1 \n",
      "  python-tzdata      conda-forge/noarch::python-tzdata-2024.2-pyhd8ed1ab_0 \n",
      "  python_abi         conda-forge/win-64::python_abi-3.10-2_cp310 \n",
      "  pyu2f              conda-forge/noarch::pyu2f-0.1.5-pyhd8ed1ab_0 \n",
      "  rsa                conda-forge/noarch::rsa-4.9-pyhd8ed1ab_0 \n",
      "  tbb                conda-forge/win-64::tbb-2021.13.0-hc790b64_0 \n",
      "  tqdm               conda-forge/noarch::tqdm-4.66.6-pyhd8ed1ab_0 \n",
      "  ucrt               conda-forge/win-64::ucrt-10.0.22621.0-h57928b3_1 \n",
      "  uritemplate        conda-forge/noarch::uritemplate-4.1.1-pyhd8ed1ab_0 \n",
      "  vc14_runtime       conda-forge/win-64::vc14_runtime-14.40.33810-hcc2c482_22 \n",
      "  yarl               conda-forge/win-64::yarl-1.16.0-py310ha8f682b_0 \n",
      "\n",
      "The following packages will be UPDATED:\n",
      "\n",
      "  openssl              pkgs/main::openssl-3.0.15-h827c3e9_0 --> conda-forge::openssl-3.3.2-h2466b09_0 \n",
      "  vs2015_runtime     pkgs/main::vs2015_runtime-14.40.33807~ --> conda-forge::vs2015_runtime-14.40.33810-h3bf8584_22 \n",
      "\n",
      "The following packages will be SUPERSEDED by a higher-priority channel:\n",
      "\n",
      "  certifi            pkgs/main/win-64::certifi-2024.8.30-p~ --> conda-forge/noarch::certifi-2024.8.30-pyhd8ed1ab_0 \n",
      "\n",
      "\n",
      "\n",
      "Downloading and Extracting Packages: ...working... done\n",
      "Preparing transaction: ...working... done\n",
      "Verifying transaction: ...working... done\n",
      "Executing transaction: ...working... done\n"
     ]
    }
   ],
   "execution_count": 2
  },
  {
   "metadata": {
    "ExecuteTime": {
     "end_time": "2024-10-28T21:01:29.199170Z",
     "start_time": "2024-10-28T21:00:46.253885Z"
    }
   },
   "cell_type": "code",
   "source": "!pip install -U langchain-google-genai langchain langchain-postgres python-dotenv",
   "id": "df070d46edbae834",
   "outputs": [
    {
     "name": "stdout",
     "output_type": "stream",
     "text": [
      "Requirement already satisfied: langchain-google-genai in c:\\users\\neypi.ney-desktop\\miniconda3\\envs\\seeding_data\\lib\\site-packages (2.0.1)\n",
      "Requirement already satisfied: langchain in c:\\users\\neypi.ney-desktop\\miniconda3\\envs\\seeding_data\\lib\\site-packages (0.3.4)\n",
      "Requirement already satisfied: langchain-postgres in c:\\users\\neypi.ney-desktop\\miniconda3\\envs\\seeding_data\\lib\\site-packages (0.0.12)\n",
      "Collecting python-dotenv\n",
      "  Downloading python_dotenv-1.0.1-py3-none-any.whl.metadata (23 kB)\n",
      "Requirement already satisfied: google-generativeai<0.9.0,>=0.8.0 in c:\\users\\neypi.ney-desktop\\miniconda3\\envs\\seeding_data\\lib\\site-packages (from langchain-google-genai) (0.8.2)\n",
      "Requirement already satisfied: langchain-core<0.4,>=0.3.0 in c:\\users\\neypi.ney-desktop\\miniconda3\\envs\\seeding_data\\lib\\site-packages (from langchain-google-genai) (0.3.13)\n",
      "Requirement already satisfied: pydantic<3,>=2 in c:\\users\\neypi.ney-desktop\\miniconda3\\envs\\seeding_data\\lib\\site-packages (from langchain-google-genai) (2.9.2)\n",
      "Requirement already satisfied: PyYAML>=5.3 in c:\\users\\neypi.ney-desktop\\miniconda3\\envs\\seeding_data\\lib\\site-packages (from langchain) (6.0.2)\n",
      "Requirement already satisfied: SQLAlchemy<3,>=1.4 in c:\\users\\neypi.ney-desktop\\miniconda3\\envs\\seeding_data\\lib\\site-packages (from langchain) (2.0.36)\n",
      "Requirement already satisfied: aiohttp<4.0.0,>=3.8.3 in c:\\users\\neypi.ney-desktop\\miniconda3\\envs\\seeding_data\\lib\\site-packages (from langchain) (3.10.10)\n",
      "Requirement already satisfied: async-timeout<5.0.0,>=4.0.0 in c:\\users\\neypi.ney-desktop\\miniconda3\\envs\\seeding_data\\lib\\site-packages (from langchain) (4.0.3)\n",
      "Requirement already satisfied: langchain-text-splitters<0.4.0,>=0.3.0 in c:\\users\\neypi.ney-desktop\\miniconda3\\envs\\seeding_data\\lib\\site-packages (from langchain) (0.3.0)\n",
      "Requirement already satisfied: langsmith<0.2.0,>=0.1.17 in c:\\users\\neypi.ney-desktop\\miniconda3\\envs\\seeding_data\\lib\\site-packages (from langchain) (0.1.137)\n",
      "Requirement already satisfied: numpy<2,>=1 in c:\\users\\neypi.ney-desktop\\miniconda3\\envs\\seeding_data\\lib\\site-packages (from langchain) (1.26.4)\n",
      "Requirement already satisfied: requests<3,>=2 in c:\\users\\neypi.ney-desktop\\miniconda3\\envs\\seeding_data\\lib\\site-packages (from langchain) (2.32.3)\n",
      "Requirement already satisfied: tenacity!=8.4.0,<10,>=8.1.0 in c:\\users\\neypi.ney-desktop\\miniconda3\\envs\\seeding_data\\lib\\site-packages (from langchain) (9.0.0)\n",
      "Requirement already satisfied: pgvector<0.3.0,>=0.2.5 in c:\\users\\neypi.ney-desktop\\miniconda3\\envs\\seeding_data\\lib\\site-packages (from langchain-postgres) (0.2.5)\n",
      "Requirement already satisfied: psycopg<4,>=3 in c:\\users\\neypi.ney-desktop\\miniconda3\\envs\\seeding_data\\lib\\site-packages (from langchain-postgres) (3.2.3)\n",
      "Requirement already satisfied: psycopg-pool<4.0.0,>=3.2.1 in c:\\users\\neypi.ney-desktop\\miniconda3\\envs\\seeding_data\\lib\\site-packages (from langchain-postgres) (3.2.3)\n",
      "Requirement already satisfied: aiohappyeyeballs>=2.3.0 in c:\\users\\neypi.ney-desktop\\miniconda3\\envs\\seeding_data\\lib\\site-packages (from aiohttp<4.0.0,>=3.8.3->langchain) (2.4.3)\n",
      "Requirement already satisfied: aiosignal>=1.1.2 in c:\\users\\neypi.ney-desktop\\miniconda3\\envs\\seeding_data\\lib\\site-packages (from aiohttp<4.0.0,>=3.8.3->langchain) (1.3.1)\n",
      "Requirement already satisfied: attrs>=17.3.0 in c:\\users\\neypi.ney-desktop\\miniconda3\\envs\\seeding_data\\lib\\site-packages (from aiohttp<4.0.0,>=3.8.3->langchain) (24.2.0)\n",
      "Requirement already satisfied: frozenlist>=1.1.1 in c:\\users\\neypi.ney-desktop\\miniconda3\\envs\\seeding_data\\lib\\site-packages (from aiohttp<4.0.0,>=3.8.3->langchain) (1.5.0)\n",
      "Requirement already satisfied: multidict<7.0,>=4.5 in c:\\users\\neypi.ney-desktop\\miniconda3\\envs\\seeding_data\\lib\\site-packages (from aiohttp<4.0.0,>=3.8.3->langchain) (6.1.0)\n",
      "Requirement already satisfied: yarl<2.0,>=1.12.0 in c:\\users\\neypi.ney-desktop\\miniconda3\\envs\\seeding_data\\lib\\site-packages (from aiohttp<4.0.0,>=3.8.3->langchain) (1.16.0)\n",
      "Requirement already satisfied: google-ai-generativelanguage==0.6.10 in c:\\users\\neypi.ney-desktop\\miniconda3\\envs\\seeding_data\\lib\\site-packages (from google-generativeai<0.9.0,>=0.8.0->langchain-google-genai) (0.6.10)\n",
      "Requirement already satisfied: google-api-core in c:\\users\\neypi.ney-desktop\\miniconda3\\envs\\seeding_data\\lib\\site-packages (from google-generativeai<0.9.0,>=0.8.0->langchain-google-genai) (2.21.0)\n",
      "Requirement already satisfied: google-api-python-client in c:\\users\\neypi.ney-desktop\\miniconda3\\envs\\seeding_data\\lib\\site-packages (from google-generativeai<0.9.0,>=0.8.0->langchain-google-genai) (2.149.0)\n",
      "Requirement already satisfied: google-auth>=2.15.0 in c:\\users\\neypi.ney-desktop\\miniconda3\\envs\\seeding_data\\lib\\site-packages (from google-generativeai<0.9.0,>=0.8.0->langchain-google-genai) (2.35.0)\n",
      "Requirement already satisfied: protobuf in c:\\users\\neypi.ney-desktop\\miniconda3\\envs\\seeding_data\\lib\\site-packages (from google-generativeai<0.9.0,>=0.8.0->langchain-google-genai) (5.28.2)\n",
      "Requirement already satisfied: tqdm in c:\\users\\neypi.ney-desktop\\miniconda3\\envs\\seeding_data\\lib\\site-packages (from google-generativeai<0.9.0,>=0.8.0->langchain-google-genai) (4.66.6)\n",
      "Requirement already satisfied: typing-extensions in c:\\users\\neypi.ney-desktop\\miniconda3\\envs\\seeding_data\\lib\\site-packages (from google-generativeai<0.9.0,>=0.8.0->langchain-google-genai) (4.11.0)\n",
      "Requirement already satisfied: proto-plus<2.0.0dev,>=1.22.3 in c:\\users\\neypi.ney-desktop\\miniconda3\\envs\\seeding_data\\lib\\site-packages (from google-ai-generativelanguage==0.6.10->google-generativeai<0.9.0,>=0.8.0->langchain-google-genai) (1.25.0)\n",
      "Requirement already satisfied: jsonpatch<2.0,>=1.33 in c:\\users\\neypi.ney-desktop\\miniconda3\\envs\\seeding_data\\lib\\site-packages (from langchain-core<0.4,>=0.3.0->langchain-google-genai) (1.33)\n",
      "Requirement already satisfied: packaging<25,>=23.2 in c:\\users\\neypi.ney-desktop\\miniconda3\\envs\\seeding_data\\lib\\site-packages (from langchain-core<0.4,>=0.3.0->langchain-google-genai) (24.1)\n",
      "Requirement already satisfied: httpx<1,>=0.23.0 in c:\\users\\neypi.ney-desktop\\miniconda3\\envs\\seeding_data\\lib\\site-packages (from langsmith<0.2.0,>=0.1.17->langchain) (0.27.0)\n",
      "Requirement already satisfied: orjson<4.0.0,>=3.9.14 in c:\\users\\neypi.ney-desktop\\miniconda3\\envs\\seeding_data\\lib\\site-packages (from langsmith<0.2.0,>=0.1.17->langchain) (3.10.10)\n",
      "Requirement already satisfied: requests-toolbelt<2.0.0,>=1.0.0 in c:\\users\\neypi.ney-desktop\\miniconda3\\envs\\seeding_data\\lib\\site-packages (from langsmith<0.2.0,>=0.1.17->langchain) (1.0.0)\n",
      "Requirement already satisfied: annotated-types>=0.6.0 in c:\\users\\neypi.ney-desktop\\miniconda3\\envs\\seeding_data\\lib\\site-packages (from pydantic<3,>=2->langchain-google-genai) (0.7.0)\n",
      "Requirement already satisfied: pydantic-core==2.23.4 in c:\\users\\neypi.ney-desktop\\miniconda3\\envs\\seeding_data\\lib\\site-packages (from pydantic<3,>=2->langchain-google-genai) (2.23.4)\n",
      "Requirement already satisfied: charset-normalizer<4,>=2 in c:\\users\\neypi.ney-desktop\\miniconda3\\envs\\seeding_data\\lib\\site-packages (from requests<3,>=2->langchain) (3.3.2)\n",
      "Requirement already satisfied: idna<4,>=2.5 in c:\\users\\neypi.ney-desktop\\miniconda3\\envs\\seeding_data\\lib\\site-packages (from requests<3,>=2->langchain) (3.7)\n",
      "Requirement already satisfied: urllib3<3,>=1.21.1 in c:\\users\\neypi.ney-desktop\\miniconda3\\envs\\seeding_data\\lib\\site-packages (from requests<3,>=2->langchain) (2.2.3)\n",
      "Requirement already satisfied: certifi>=2017.4.17 in c:\\users\\neypi.ney-desktop\\miniconda3\\envs\\seeding_data\\lib\\site-packages (from requests<3,>=2->langchain) (2024.8.30)\n",
      "Requirement already satisfied: greenlet!=0.4.17 in c:\\users\\neypi.ney-desktop\\miniconda3\\envs\\seeding_data\\lib\\site-packages (from SQLAlchemy<3,>=1.4->langchain) (3.1.1)\n",
      "Requirement already satisfied: googleapis-common-protos<2.0.dev0,>=1.56.2 in c:\\users\\neypi.ney-desktop\\miniconda3\\envs\\seeding_data\\lib\\site-packages (from google-api-core->google-generativeai<0.9.0,>=0.8.0->langchain-google-genai) (1.65.0)\n",
      "Requirement already satisfied: cachetools<6.0,>=2.0.0 in c:\\users\\neypi.ney-desktop\\miniconda3\\envs\\seeding_data\\lib\\site-packages (from google-auth>=2.15.0->google-generativeai<0.9.0,>=0.8.0->langchain-google-genai) (5.5.0)\n",
      "Requirement already satisfied: pyasn1-modules>=0.2.1 in c:\\users\\neypi.ney-desktop\\miniconda3\\envs\\seeding_data\\lib\\site-packages (from google-auth>=2.15.0->google-generativeai<0.9.0,>=0.8.0->langchain-google-genai) (0.4.1)\n",
      "Requirement already satisfied: rsa<5,>=3.1.4 in c:\\users\\neypi.ney-desktop\\miniconda3\\envs\\seeding_data\\lib\\site-packages (from google-auth>=2.15.0->google-generativeai<0.9.0,>=0.8.0->langchain-google-genai) (4.9)\n",
      "Requirement already satisfied: anyio in c:\\users\\neypi.ney-desktop\\miniconda3\\envs\\seeding_data\\lib\\site-packages (from httpx<1,>=0.23.0->langsmith<0.2.0,>=0.1.17->langchain) (4.6.2)\n",
      "Requirement already satisfied: httpcore==1.* in c:\\users\\neypi.ney-desktop\\miniconda3\\envs\\seeding_data\\lib\\site-packages (from httpx<1,>=0.23.0->langsmith<0.2.0,>=0.1.17->langchain) (1.0.2)\n",
      "Requirement already satisfied: sniffio in c:\\users\\neypi.ney-desktop\\miniconda3\\envs\\seeding_data\\lib\\site-packages (from httpx<1,>=0.23.0->langsmith<0.2.0,>=0.1.17->langchain) (1.3.0)\n",
      "Requirement already satisfied: h11<0.15,>=0.13 in c:\\users\\neypi.ney-desktop\\miniconda3\\envs\\seeding_data\\lib\\site-packages (from httpcore==1.*->httpx<1,>=0.23.0->langsmith<0.2.0,>=0.1.17->langchain) (0.14.0)\n",
      "Requirement already satisfied: jsonpointer>=1.9 in c:\\users\\neypi.ney-desktop\\miniconda3\\envs\\seeding_data\\lib\\site-packages (from jsonpatch<2.0,>=1.33->langchain-core<0.4,>=0.3.0->langchain-google-genai) (3.0.0)\n",
      "Requirement already satisfied: propcache>=0.2.0 in c:\\users\\neypi.ney-desktop\\miniconda3\\envs\\seeding_data\\lib\\site-packages (from yarl<2.0,>=1.12.0->aiohttp<4.0.0,>=3.8.3->langchain) (0.2.0)\n",
      "Requirement already satisfied: httplib2<1.dev0,>=0.19.0 in c:\\users\\neypi.ney-desktop\\miniconda3\\envs\\seeding_data\\lib\\site-packages (from google-api-python-client->google-generativeai<0.9.0,>=0.8.0->langchain-google-genai) (0.22.0)\n",
      "Requirement already satisfied: google-auth-httplib2<1.0.0,>=0.2.0 in c:\\users\\neypi.ney-desktop\\miniconda3\\envs\\seeding_data\\lib\\site-packages (from google-api-python-client->google-generativeai<0.9.0,>=0.8.0->langchain-google-genai) (0.2.0)\n",
      "Requirement already satisfied: uritemplate<5,>=3.0.1 in c:\\users\\neypi.ney-desktop\\miniconda3\\envs\\seeding_data\\lib\\site-packages (from google-api-python-client->google-generativeai<0.9.0,>=0.8.0->langchain-google-genai) (4.1.1)\n",
      "Requirement already satisfied: colorama in c:\\users\\neypi.ney-desktop\\miniconda3\\envs\\seeding_data\\lib\\site-packages (from tqdm->google-generativeai<0.9.0,>=0.8.0->langchain-google-genai) (0.4.6)\n",
      "Requirement already satisfied: grpcio<2.0dev,>=1.33.2 in c:\\users\\neypi.ney-desktop\\miniconda3\\envs\\seeding_data\\lib\\site-packages (from google-api-core[grpc]!=2.0.*,!=2.1.*,!=2.10.*,!=2.2.*,!=2.3.*,!=2.4.*,!=2.5.*,!=2.6.*,!=2.7.*,!=2.8.*,!=2.9.*,<3.0.0dev,>=1.34.1->google-ai-generativelanguage==0.6.10->google-generativeai<0.9.0,>=0.8.0->langchain-google-genai) (1.67.0)\n",
      "Requirement already satisfied: grpcio-status<2.0.dev0,>=1.33.2 in c:\\users\\neypi.ney-desktop\\miniconda3\\envs\\seeding_data\\lib\\site-packages (from google-api-core[grpc]!=2.0.*,!=2.1.*,!=2.10.*,!=2.2.*,!=2.3.*,!=2.4.*,!=2.5.*,!=2.6.*,!=2.7.*,!=2.8.*,!=2.9.*,<3.0.0dev,>=1.34.1->google-ai-generativelanguage==0.6.10->google-generativeai<0.9.0,>=0.8.0->langchain-google-genai) (1.67.0)\n",
      "Requirement already satisfied: pyparsing!=3.0.0,!=3.0.1,!=3.0.2,!=3.0.3,<4,>=2.4.2 in c:\\users\\neypi.ney-desktop\\miniconda3\\envs\\seeding_data\\lib\\site-packages (from httplib2<1.dev0,>=0.19.0->google-api-python-client->google-generativeai<0.9.0,>=0.8.0->langchain-google-genai) (3.2.0)\n",
      "Requirement already satisfied: pyasn1<0.7.0,>=0.4.6 in c:\\users\\neypi.ney-desktop\\miniconda3\\envs\\seeding_data\\lib\\site-packages (from pyasn1-modules>=0.2.1->google-auth>=2.15.0->google-generativeai<0.9.0,>=0.8.0->langchain-google-genai) (0.6.1)\n",
      "Requirement already satisfied: exceptiongroup>=1.0.2 in c:\\users\\neypi.ney-desktop\\miniconda3\\envs\\seeding_data\\lib\\site-packages (from anyio->httpx<1,>=0.23.0->langsmith<0.2.0,>=0.1.17->langchain) (1.2.0)\n",
      "Downloading python_dotenv-1.0.1-py3-none-any.whl (19 kB)\n",
      "Installing collected packages: python-dotenv\n",
      "Successfully installed python-dotenv-1.0.1\n"
     ]
    }
   ],
   "execution_count": 5
  },
  {
   "metadata": {
    "ExecuteTime": {
     "end_time": "2024-10-28T21:03:00.987173Z",
     "start_time": "2024-10-28T21:03:00.962578Z"
    }
   },
   "cell_type": "code",
   "source": [
    "import dotenv\n",
    "\n",
    "dotenv.load_dotenv()"
   ],
   "id": "aed18ad2d3238310",
   "outputs": [
    {
     "data": {
      "text/plain": [
       "True"
      ]
     },
     "execution_count": 1,
     "metadata": {},
     "output_type": "execute_result"
    }
   ],
   "execution_count": 1
  },
  {
   "metadata": {
    "ExecuteTime": {
     "end_time": "2024-10-28T21:03:06.975365Z",
     "start_time": "2024-10-28T21:03:03.956038Z"
    }
   },
   "cell_type": "code",
   "source": [
    "from getpass import getpass\n",
    "import os\n",
    "\n",
    "if \"GOOGLE_API_KEY\" not in os.environ:\n",
    "    os.environ[\"GOOGLE_API_KEY\"] = getpass(\"API_KEY\")"
   ],
   "id": "2c519a2eaee69b5e",
   "outputs": [],
   "execution_count": 2
  },
  {
   "metadata": {
    "ExecuteTime": {
     "end_time": "2024-10-28T21:04:48.450451Z",
     "start_time": "2024-10-28T21:04:46.875680Z"
    }
   },
   "cell_type": "code",
   "source": "import pandas as pd",
   "id": "d8eabfac65b7b1d8",
   "outputs": [],
   "execution_count": 5
  },
  {
   "metadata": {},
   "cell_type": "markdown",
   "source": [
    "[Baixe aqui os dados](https://arquivos.receitafederal.gov.br/cnpj/dados_abertos_cnpj/2024-10/Empresas0.zip)\n",
    "\n",
    "[Metadata](https://www.gov.br/receitafederal/dados/cnpj-metadados.pdf)"
   ],
   "id": "38227a44880b5e52"
  },
  {
   "metadata": {},
   "cell_type": "code",
   "source": [
    "# download to data folder\n",
    "!wget -P data https://arquivos.receitafederal.gov.br/cnpj/dados_abertos_cnpj/2024-10/Empresas0.zip"
   ],
   "id": "740dff35aba9d987",
   "outputs": [],
   "execution_count": null
  },
  {
   "metadata": {
    "collapsed": true,
    "ExecuteTime": {
     "end_time": "2024-10-28T21:04:53.694307Z",
     "start_time": "2024-10-28T21:04:53.674220Z"
    }
   },
   "cell_type": "code",
   "outputs": [],
   "execution_count": 7,
   "source": "path = \"data/K3241.K03200Y0.D41012.EMPRECSV\"",
   "id": "initial_id"
  },
  {
   "metadata": {
    "ExecuteTime": {
     "end_time": "2024-10-28T21:21:34.213788Z",
     "start_time": "2024-10-28T21:21:34.200241Z"
    }
   },
   "cell_type": "code",
   "source": [
    "from enum import Enum\n",
    "\n",
    "\n",
    "class Porte(str, Enum):\n",
    "    UNKNOWN = \"00\"\n",
    "    MICRO = \"01\"\n",
    "    PEQUENO = \"03\"\n",
    "    DEMAIS = \"05\""
   ],
   "id": "9f9614b92dad57b4",
   "outputs": [],
   "execution_count": 11
  },
  {
   "metadata": {
    "ExecuteTime": {
     "end_time": "2024-10-29T00:05:42.561351Z",
     "start_time": "2024-10-29T00:05:18.612758Z"
    }
   },
   "cell_type": "code",
   "source": [
    "column_names = [\"cnpj\", \"razao_social\", \"natureza_juridica\", \"qualificacao_responsavel\", \"capital_social\", \"porte\", \"ente_responsavel\"]\n",
    "column_types = {\n",
    "    \"cnpj\": str,\n",
    "    \"razao_social\": str,\n",
    "    \"natureza_juridica\": str,\n",
    "    \"qualificacao_responsavel\": str,\n",
    "    \"capital_social\": str,\n",
    "    \"porte\": str,\n",
    "    \"ente_responsavel\": str\n",
    "}\n",
    "\n",
    "df = pd.read_csv(path, sep=\";\", encoding=\"latin1\", header=None, names=column_names, dtype=column_types)"
   ],
   "id": "a4c7a3cab10cbaa8",
   "outputs": [],
   "execution_count": 52
  },
  {
   "metadata": {
    "ExecuteTime": {
     "end_time": "2024-10-29T00:05:47.935954Z",
     "start_time": "2024-10-29T00:05:47.909436Z"
    }
   },
   "cell_type": "code",
   "outputs": [
    {
     "data": {
      "text/plain": [
       "              cnpj                                    razao_social  \\\n",
       "0         41273593                   JULIO CESAR NUNES 39611300867   \n",
       "1         41273594              OZINETE DELFINO CALDAS 41608224287   \n",
       "2         41273595               GILVAN PEREIRA XAVIER 01363090380   \n",
       "3         41273596         RODRIGO JOSE FERREIRA LOPES 05010247941   \n",
       "4         41273597  PACHARRUS QUEIROZ DA COSTA E SILVA 03618384335   \n",
       "...            ...                                             ...   \n",
       "19501127  98819550                         ANTONIO ORIQUES CARDOSO   \n",
       "19501128  98819568                             ELI ORIQUES CARDOSO   \n",
       "19501129  98819600                          PAULINO LEMOS DA SILVA   \n",
       "19501130  98819832                                    JOAO FELTRIN   \n",
       "19501131  99017782                     SOCIEDADE UNIAO DE ARTISTAS   \n",
       "\n",
       "         natureza_juridica qualificacao_responsavel capital_social porte  \\\n",
       "0                     2135                       50        3000,00    01   \n",
       "1                     2135                       50        5000,00    01   \n",
       "2                     2135                       50        3000,00    01   \n",
       "3                     2135                       50       10000,00    01   \n",
       "4                     2135                       50        5000,00    01   \n",
       "...                    ...                      ...            ...   ...   \n",
       "19501127              2135                       50           0,00    01   \n",
       "19501128              2135                       50           0,00    01   \n",
       "19501129              2135                       50           0,00    05   \n",
       "19501130              2135                       50           0,00    01   \n",
       "19501131              3999                       16           0,00    05   \n",
       "\n",
       "         ente_responsavel  \n",
       "0                     NaN  \n",
       "1                     NaN  \n",
       "2                     NaN  \n",
       "3                     NaN  \n",
       "4                     NaN  \n",
       "...                   ...  \n",
       "19501127              NaN  \n",
       "19501128              NaN  \n",
       "19501129              NaN  \n",
       "19501130              NaN  \n",
       "19501131              NaN  \n",
       "\n",
       "[19501132 rows x 7 columns]"
      ],
      "text/html": [
       "<div>\n",
       "<style scoped>\n",
       "    .dataframe tbody tr th:only-of-type {\n",
       "        vertical-align: middle;\n",
       "    }\n",
       "\n",
       "    .dataframe tbody tr th {\n",
       "        vertical-align: top;\n",
       "    }\n",
       "\n",
       "    .dataframe thead th {\n",
       "        text-align: right;\n",
       "    }\n",
       "</style>\n",
       "<table border=\"1\" class=\"dataframe\">\n",
       "  <thead>\n",
       "    <tr style=\"text-align: right;\">\n",
       "      <th></th>\n",
       "      <th>cnpj</th>\n",
       "      <th>razao_social</th>\n",
       "      <th>natureza_juridica</th>\n",
       "      <th>qualificacao_responsavel</th>\n",
       "      <th>capital_social</th>\n",
       "      <th>porte</th>\n",
       "      <th>ente_responsavel</th>\n",
       "    </tr>\n",
       "  </thead>\n",
       "  <tbody>\n",
       "    <tr>\n",
       "      <th>0</th>\n",
       "      <td>41273593</td>\n",
       "      <td>JULIO CESAR NUNES 39611300867</td>\n",
       "      <td>2135</td>\n",
       "      <td>50</td>\n",
       "      <td>3000,00</td>\n",
       "      <td>01</td>\n",
       "      <td>NaN</td>\n",
       "    </tr>\n",
       "    <tr>\n",
       "      <th>1</th>\n",
       "      <td>41273594</td>\n",
       "      <td>OZINETE DELFINO CALDAS 41608224287</td>\n",
       "      <td>2135</td>\n",
       "      <td>50</td>\n",
       "      <td>5000,00</td>\n",
       "      <td>01</td>\n",
       "      <td>NaN</td>\n",
       "    </tr>\n",
       "    <tr>\n",
       "      <th>2</th>\n",
       "      <td>41273595</td>\n",
       "      <td>GILVAN PEREIRA XAVIER 01363090380</td>\n",
       "      <td>2135</td>\n",
       "      <td>50</td>\n",
       "      <td>3000,00</td>\n",
       "      <td>01</td>\n",
       "      <td>NaN</td>\n",
       "    </tr>\n",
       "    <tr>\n",
       "      <th>3</th>\n",
       "      <td>41273596</td>\n",
       "      <td>RODRIGO JOSE FERREIRA LOPES 05010247941</td>\n",
       "      <td>2135</td>\n",
       "      <td>50</td>\n",
       "      <td>10000,00</td>\n",
       "      <td>01</td>\n",
       "      <td>NaN</td>\n",
       "    </tr>\n",
       "    <tr>\n",
       "      <th>4</th>\n",
       "      <td>41273597</td>\n",
       "      <td>PACHARRUS QUEIROZ DA COSTA E SILVA 03618384335</td>\n",
       "      <td>2135</td>\n",
       "      <td>50</td>\n",
       "      <td>5000,00</td>\n",
       "      <td>01</td>\n",
       "      <td>NaN</td>\n",
       "    </tr>\n",
       "    <tr>\n",
       "      <th>...</th>\n",
       "      <td>...</td>\n",
       "      <td>...</td>\n",
       "      <td>...</td>\n",
       "      <td>...</td>\n",
       "      <td>...</td>\n",
       "      <td>...</td>\n",
       "      <td>...</td>\n",
       "    </tr>\n",
       "    <tr>\n",
       "      <th>19501127</th>\n",
       "      <td>98819550</td>\n",
       "      <td>ANTONIO ORIQUES CARDOSO</td>\n",
       "      <td>2135</td>\n",
       "      <td>50</td>\n",
       "      <td>0,00</td>\n",
       "      <td>01</td>\n",
       "      <td>NaN</td>\n",
       "    </tr>\n",
       "    <tr>\n",
       "      <th>19501128</th>\n",
       "      <td>98819568</td>\n",
       "      <td>ELI ORIQUES CARDOSO</td>\n",
       "      <td>2135</td>\n",
       "      <td>50</td>\n",
       "      <td>0,00</td>\n",
       "      <td>01</td>\n",
       "      <td>NaN</td>\n",
       "    </tr>\n",
       "    <tr>\n",
       "      <th>19501129</th>\n",
       "      <td>98819600</td>\n",
       "      <td>PAULINO LEMOS DA SILVA</td>\n",
       "      <td>2135</td>\n",
       "      <td>50</td>\n",
       "      <td>0,00</td>\n",
       "      <td>05</td>\n",
       "      <td>NaN</td>\n",
       "    </tr>\n",
       "    <tr>\n",
       "      <th>19501130</th>\n",
       "      <td>98819832</td>\n",
       "      <td>JOAO FELTRIN</td>\n",
       "      <td>2135</td>\n",
       "      <td>50</td>\n",
       "      <td>0,00</td>\n",
       "      <td>01</td>\n",
       "      <td>NaN</td>\n",
       "    </tr>\n",
       "    <tr>\n",
       "      <th>19501131</th>\n",
       "      <td>99017782</td>\n",
       "      <td>SOCIEDADE UNIAO DE ARTISTAS</td>\n",
       "      <td>3999</td>\n",
       "      <td>16</td>\n",
       "      <td>0,00</td>\n",
       "      <td>05</td>\n",
       "      <td>NaN</td>\n",
       "    </tr>\n",
       "  </tbody>\n",
       "</table>\n",
       "<p>19501132 rows × 7 columns</p>\n",
       "</div>"
      ]
     },
     "execution_count": 53,
     "metadata": {},
     "output_type": "execute_result"
    }
   ],
   "execution_count": 53,
   "source": "df",
   "id": "931cf239ad34c77a"
  },
  {
   "metadata": {
    "ExecuteTime": {
     "end_time": "2024-10-29T00:06:09.790079Z",
     "start_time": "2024-10-29T00:06:04.367939Z"
    }
   },
   "cell_type": "code",
   "source": "df['capital_social'] = df['capital_social'].str.replace(\",\", \".\").astype(float)",
   "id": "48b262449e542f4f",
   "outputs": [],
   "execution_count": 54
  },
  {
   "metadata": {
    "ExecuteTime": {
     "end_time": "2024-10-29T00:06:31.447473Z",
     "start_time": "2024-10-29T00:06:16.200578Z"
    }
   },
   "cell_type": "code",
   "source": "df[\"porte\"] = df[\"porte\"].map(lambda x: Porte(x) if x in Porte._value2member_map_ else Porte.UNKNOWN)",
   "id": "1da352ba3a5f8280",
   "outputs": [],
   "execution_count": 55
  },
  {
   "metadata": {
    "ExecuteTime": {
     "end_time": "2024-10-29T00:06:32.271223Z",
     "start_time": "2024-10-29T00:06:31.471080Z"
    }
   },
   "cell_type": "code",
   "source": "df[\"porte\"].value_counts()",
   "id": "858c9462ab15d8ae",
   "outputs": [
    {
     "data": {
      "text/plain": [
       "porte\n",
       "Porte.MICRO      14601345\n",
       "Porte.DEMAIS      4331543\n",
       "Porte.PEQUENO      554305\n",
       "Porte.UNKNOWN       13939\n",
       "Name: count, dtype: int64"
      ]
     },
     "execution_count": 56,
     "metadata": {},
     "output_type": "execute_result"
    }
   ],
   "execution_count": 56
  },
  {
   "metadata": {
    "ExecuteTime": {
     "end_time": "2024-10-29T00:29:47.573415Z",
     "start_time": "2024-10-29T00:29:10.647627Z"
    }
   },
   "cell_type": "code",
   "source": "df.where(pd.notnull(df), None, inplace=True)",
   "id": "a75151e07215e0d8",
   "outputs": [],
   "execution_count": 65
  },
  {
   "metadata": {
    "ExecuteTime": {
     "end_time": "2024-10-29T00:30:14.250294Z",
     "start_time": "2024-10-29T00:30:14.198519Z"
    }
   },
   "cell_type": "code",
   "source": "df.info()",
   "id": "239271a87376de64",
   "outputs": [
    {
     "name": "stdout",
     "output_type": "stream",
     "text": [
      "<class 'pandas.core.frame.DataFrame'>\n",
      "RangeIndex: 19501132 entries, 0 to 19501131\n",
      "Data columns (total 9 columns):\n",
      " #   Column                    Dtype  \n",
      "---  ------                    -----  \n",
      " 0   cnpj                      object \n",
      " 1   razao_social              object \n",
      " 2   natureza_juridica         object \n",
      " 3   qualificacao_responsavel  object \n",
      " 4   capital_social            float64\n",
      " 5   porte                     object \n",
      " 6   ente_responsavel          object \n",
      " 7   document                  object \n",
      " 8   metadata                  object \n",
      "dtypes: float64(1), object(8)\n",
      "memory usage: 1.3+ GB\n"
     ]
    }
   ],
   "execution_count": 66
  },
  {
   "metadata": {
    "ExecuteTime": {
     "end_time": "2024-10-29T00:06:32.442065Z",
     "start_time": "2024-10-29T00:06:32.433061Z"
    }
   },
   "cell_type": "code",
   "source": "df.head()",
   "id": "a771d94a18822e04",
   "outputs": [
    {
     "data": {
      "text/plain": [
       "       cnpj                                    razao_social natureza_juridica  \\\n",
       "0  41273593                   JULIO CESAR NUNES 39611300867              2135   \n",
       "1  41273594              OZINETE DELFINO CALDAS 41608224287              2135   \n",
       "2  41273595               GILVAN PEREIRA XAVIER 01363090380              2135   \n",
       "3  41273596         RODRIGO JOSE FERREIRA LOPES 05010247941              2135   \n",
       "4  41273597  PACHARRUS QUEIROZ DA COSTA E SILVA 03618384335              2135   \n",
       "\n",
       "  qualificacao_responsavel  capital_social        porte ente_responsavel  \n",
       "0                       50          3000.0  Porte.MICRO              NaN  \n",
       "1                       50          5000.0  Porte.MICRO              NaN  \n",
       "2                       50          3000.0  Porte.MICRO              NaN  \n",
       "3                       50         10000.0  Porte.MICRO              NaN  \n",
       "4                       50          5000.0  Porte.MICRO              NaN  "
      ],
      "text/html": [
       "<div>\n",
       "<style scoped>\n",
       "    .dataframe tbody tr th:only-of-type {\n",
       "        vertical-align: middle;\n",
       "    }\n",
       "\n",
       "    .dataframe tbody tr th {\n",
       "        vertical-align: top;\n",
       "    }\n",
       "\n",
       "    .dataframe thead th {\n",
       "        text-align: right;\n",
       "    }\n",
       "</style>\n",
       "<table border=\"1\" class=\"dataframe\">\n",
       "  <thead>\n",
       "    <tr style=\"text-align: right;\">\n",
       "      <th></th>\n",
       "      <th>cnpj</th>\n",
       "      <th>razao_social</th>\n",
       "      <th>natureza_juridica</th>\n",
       "      <th>qualificacao_responsavel</th>\n",
       "      <th>capital_social</th>\n",
       "      <th>porte</th>\n",
       "      <th>ente_responsavel</th>\n",
       "    </tr>\n",
       "  </thead>\n",
       "  <tbody>\n",
       "    <tr>\n",
       "      <th>0</th>\n",
       "      <td>41273593</td>\n",
       "      <td>JULIO CESAR NUNES 39611300867</td>\n",
       "      <td>2135</td>\n",
       "      <td>50</td>\n",
       "      <td>3000.0</td>\n",
       "      <td>Porte.MICRO</td>\n",
       "      <td>NaN</td>\n",
       "    </tr>\n",
       "    <tr>\n",
       "      <th>1</th>\n",
       "      <td>41273594</td>\n",
       "      <td>OZINETE DELFINO CALDAS 41608224287</td>\n",
       "      <td>2135</td>\n",
       "      <td>50</td>\n",
       "      <td>5000.0</td>\n",
       "      <td>Porte.MICRO</td>\n",
       "      <td>NaN</td>\n",
       "    </tr>\n",
       "    <tr>\n",
       "      <th>2</th>\n",
       "      <td>41273595</td>\n",
       "      <td>GILVAN PEREIRA XAVIER 01363090380</td>\n",
       "      <td>2135</td>\n",
       "      <td>50</td>\n",
       "      <td>3000.0</td>\n",
       "      <td>Porte.MICRO</td>\n",
       "      <td>NaN</td>\n",
       "    </tr>\n",
       "    <tr>\n",
       "      <th>3</th>\n",
       "      <td>41273596</td>\n",
       "      <td>RODRIGO JOSE FERREIRA LOPES 05010247941</td>\n",
       "      <td>2135</td>\n",
       "      <td>50</td>\n",
       "      <td>10000.0</td>\n",
       "      <td>Porte.MICRO</td>\n",
       "      <td>NaN</td>\n",
       "    </tr>\n",
       "    <tr>\n",
       "      <th>4</th>\n",
       "      <td>41273597</td>\n",
       "      <td>PACHARRUS QUEIROZ DA COSTA E SILVA 03618384335</td>\n",
       "      <td>2135</td>\n",
       "      <td>50</td>\n",
       "      <td>5000.0</td>\n",
       "      <td>Porte.MICRO</td>\n",
       "      <td>NaN</td>\n",
       "    </tr>\n",
       "  </tbody>\n",
       "</table>\n",
       "</div>"
      ]
     },
     "execution_count": 58,
     "metadata": {},
     "output_type": "execute_result"
    }
   ],
   "execution_count": 58
  },
  {
   "metadata": {},
   "cell_type": "markdown",
   "source": [
    "| Column Name                | Data Type      | Description                                                                                                  |\n",
    "|----------------------------|----------------|--------------------------------------------------------------------------------------------------------------|\n",
    "| `cnpj`                     | `str`          | The unique identifier for the company (CNPJ).                                                                |\n",
    "| `razao_social`             | `str`          | The legal name of the company.                                                                               |\n",
    "| `natureza_juridica`        | `str`          | The legal nature of the company, represented by a code in Annex V of Normative Instruction RFB No. 2119/2022 |\n",
    "| `qualificacao_responsavel` | `str`          | The qualification of the responsible person, represented by a code.                                          |\n",
    "| `capital_social`           | `float`        | The social capital of the company, represented as a decimal number.                                          |\n",
    "| `porte`                    | `Porte` (Enum) | The size of the company, represented by an enum (`Porte.MICRO`, etc.).                                       |\n",
    "| `ente_responsavel`         | `str`          | The responsible entity. Only for `natureza_juridica` of type 1xxx, the rest can be `null` as not applicable. |\n",
    "\n",
    "### Enum `Porte`\n",
    "| Enum Value     | Description                |\n",
    "|----------------|----------------------------|\n",
    "| `UNKNOWN`      | Unknown size               |\n",
    "| `MICRO`        | Micro size company         |\n",
    "| `PEQUENO`      | Small size company         |\n",
    "| `DEMAIS`       | Other sizes                |"
   ],
   "id": "b8487e05f3810ab3"
  },
  {
   "metadata": {},
   "cell_type": "markdown",
   "source": "# Ingestion",
   "id": "d4934b8dc4f3a744"
  },
  {
   "metadata": {
    "ExecuteTime": {
     "end_time": "2024-10-29T00:13:01.460714Z",
     "start_time": "2024-10-29T00:07:09.787553Z"
    }
   },
   "cell_type": "code",
   "source": [
    "df[\"document\"] = df.apply(\n",
    "    lambda row: f\"Uma companhia nomeada como {row['razao_social']} com CNPJ {row['cnpj']} tem natureza jurídica com código {row['natureza_juridica']} com seu ente responsavel de {row['ente_responsavel']}, com a pessoa responsavel qualificada como {row['qualificacao_responsavel']}, capital social de {row['capital_social']} e possui porte de {row['porte']}\",\n",
    "    axis=1\n",
    ")"
   ],
   "id": "1a10607fb22e7e85",
   "outputs": [],
   "execution_count": 59
  },
  {
   "metadata": {
    "ExecuteTime": {
     "end_time": "2024-10-29T00:41:20.883514Z",
     "start_time": "2024-10-29T00:41:20.866530Z"
    }
   },
   "cell_type": "code",
   "source": "df[\"document\"] ",
   "id": "bce06f22f414cbfb",
   "outputs": [
    {
     "data": {
      "text/plain": [
       "0           Uma companhia nomeada como JULIO CESAR NUNES 3...\n",
       "1           Uma companhia nomeada como OZINETE DELFINO CAL...\n",
       "2           Uma companhia nomeada como GILVAN PEREIRA XAVI...\n",
       "3           Uma companhia nomeada como RODRIGO JOSE FERREI...\n",
       "4           Uma companhia nomeada como PACHARRUS QUEIROZ D...\n",
       "                                  ...                        \n",
       "19501127    Uma companhia nomeada como ANTONIO ORIQUES CAR...\n",
       "19501128    Uma companhia nomeada como ELI ORIQUES CARDOSO...\n",
       "19501129    Uma companhia nomeada como PAULINO LEMOS DA SI...\n",
       "19501130    Uma companhia nomeada como JOAO FELTRIN com CN...\n",
       "19501131    Uma companhia nomeada como SOCIEDADE UNIAO DE ...\n",
       "Name: document, Length: 19501132, dtype: object"
      ]
     },
     "execution_count": 68,
     "metadata": {},
     "output_type": "execute_result"
    }
   ],
   "execution_count": 68
  },
  {
   "metadata": {
    "ExecuteTime": {
     "end_time": "2024-10-29T00:53:54.984378Z",
     "start_time": "2024-10-29T00:41:33.815074Z"
    }
   },
   "cell_type": "code",
   "source": [
    "df[\"metadata\"] = df.apply(\n",
    "    lambda row: {\n",
    "        \"cnpj\": row[\"cnpj\"],\n",
    "        \"razao_social\": row[\"razao_social\"],\n",
    "        \"natureza_juridica\": row[\"natureza_juridica\"],\n",
    "        \"qualificacao_responsavel\": row[\"qualificacao_responsavel\"],\n",
    "        \"capital_social\": row[\"capital_social\"],\n",
    "        \"porte\": row[\"porte\"],\n",
    "        \"ente_responsavel\": row[\"ente_responsavel\"]\n",
    "    },\n",
    "    axis=1\n",
    ")"
   ],
   "id": "b0f0fc94530a098c",
   "outputs": [],
   "execution_count": 69
  },
  {
   "metadata": {
    "ExecuteTime": {
     "end_time": "2024-10-29T00:58:24.971755Z",
     "start_time": "2024-10-29T00:58:24.956754Z"
    }
   },
   "cell_type": "code",
   "source": [
    "from sqlalchemy import create_engine, Column, Integer, String, JSON, ForeignKey, URL\n",
    "from sqlalchemy.orm import sessionmaker, declarative_base\n",
    "from pgvector.sqlalchemy import Vector\n",
    "from langchain_google_genai import GoogleGenerativeAIEmbeddings\n",
    "\n",
    "# Define the ORM base and model\n",
    "Base = declarative_base()\n",
    "\n",
    "class Collections(Base):\n",
    "    __tablename__ = 'collections'\n",
    "    id = Column(Integer, primary_key=True, autoincrement=True)\n",
    "    name = Column(String)\n",
    "    description = Column(String, nullable=True)\n",
    "\n",
    "class Embeddings(Base):\n",
    "    __tablename__ = 'embeddings'\n",
    "    id = Column(Integer, primary_key=True, autoincrement=True)\n",
    "    collection_id = Column(Integer, ForeignKey(Collection.id))\n",
    "    document = Column(String)\n",
    "    cmetadata = Column(JSON)\n",
    "    embedding = Column(Vector(768))  # AJUSTE O TAMANHO DO VETOR DE ACORDO COM O MODELO UTILIZADO (OLHAR A DOCUMENTAÇÃO DO MODELO)"
   ],
   "id": "f49d984cce330733",
   "outputs": [],
   "execution_count": 73
  },
  {
   "metadata": {
    "ExecuteTime": {
     "end_time": "2024-10-29T00:58:25.573515Z",
     "start_time": "2024-10-29T00:58:25.555524Z"
    }
   },
   "cell_type": "code",
   "source": [
    "connection_uri = URL.create(\n",
    "    drivername=\"postgresql+psycopg\", username=os.getenv(\"USERNAME\"), password=os.getenv(\"PASSWORD\"), host=os.getenv(\"HOSTNAME\"), port=os.getenv(\"PORT\"), database=os.getenv(\"DBNAME\") # AJUSTE A CONEXÃO COM O BANCO DE DADOS CONFORME O SEU AMBIENTE\n",
    ")"
   ],
   "id": "96ada147dd894f9f",
   "outputs": [],
   "execution_count": 74
  },
  {
   "metadata": {},
   "cell_type": "code",
   "source": [
    "# Connect to the PostgreSQL database\n",
    "engine = create_engine(connection_uri)\n",
    "Base.metadata.create_all(engine)\n",
    "\n",
    "# Create a session\n",
    "Session = sessionmaker(bind=engine)"
   ],
   "id": "7f20346215f0f4ee",
   "outputs": [],
   "execution_count": null
  },
  {
   "metadata": {
    "ExecuteTime": {
     "end_time": "2024-10-29T00:02:46.890107Z",
     "start_time": "2024-10-29T00:02:46.862039Z"
    }
   },
   "cell_type": "code",
   "source": [
    "# Initialize the embeddings model\n",
    "embeddings = GoogleGenerativeAIEmbeddings(model=\"models/embedding-001\")"
   ],
   "id": "724c8e199bcd354d",
   "outputs": [],
   "execution_count": 48
  },
  {
   "metadata": {},
   "cell_type": "code",
   "source": [
    "from sqlalchemy.exc import SQLAlchemyError\n",
    "\n",
    "try:\n",
    "    with Session() as session:\n",
    "        # Insert the collection data\n",
    "        collection = Collections(name=\"companies\", description=\"Company data\")\n",
    "        session.add(collection)\n",
    "        session.commit()\n",
    "\n",
    "        # Prepare the list of Embeddings objects\n",
    "        embeddings_list = []\n",
    "        for index, row in df.iterrows():\n",
    "            vector = embeddings.embed_query(row[\"document\"])\n",
    "            company_data = Embeddings(\n",
    "                collection_id=collection.id,\n",
    "                document=row[\"document\"],\n",
    "                cmetadata=row[\"metadata\"],\n",
    "                embedding=vector\n",
    "            )\n",
    "            embeddings_list.append(company_data)\n",
    "\n",
    "        # Bulk insert all Embeddings objects\n",
    "        session.bulk_save_objects(embeddings_list)\n",
    "        session.commit()\n",
    "\n",
    "except SQLAlchemyError as e:\n",
    "    print(f\"An error occurred: {e}\")\n",
    "    session.rollback()"
   ],
   "id": "badeca93c849af",
   "outputs": [],
   "execution_count": null
  }
 ],
 "metadata": {
  "kernelspec": {
   "display_name": "Python 3",
   "language": "python",
   "name": "python3"
  },
  "language_info": {
   "codemirror_mode": {
    "name": "ipython",
    "version": 2
   },
   "file_extension": ".py",
   "mimetype": "text/x-python",
   "name": "python",
   "nbconvert_exporter": "python",
   "pygments_lexer": "ipython2",
   "version": "2.7.6"
  }
 },
 "nbformat": 4,
 "nbformat_minor": 5
}
